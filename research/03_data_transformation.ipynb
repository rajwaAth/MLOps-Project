{
 "cells": [
  {
   "cell_type": "code",
   "execution_count": 1,
   "id": "a61c0875",
   "metadata": {},
   "outputs": [],
   "source": [
    "import os"
   ]
  },
  {
   "cell_type": "code",
   "execution_count": null,
   "id": "fc23adf4",
   "metadata": {},
   "outputs": [
    {
     "data": {
      "text/plain": [
       "'c:\\\\Users\\\\admin\\\\OneDrive\\\\Dokumen\\\\Portofolio\\\\Data Sceince (Python)\\\\End-to-end'"
      ]
     },
     "execution_count": 3,
     "metadata": {},
     "output_type": "execute_result"
    }
   ],
   "source": [
    "os.chdir('../')\n",
    "%pwd"
   ]
  },
  {
   "cell_type": "code",
   "execution_count": 4,
   "id": "c97f616c",
   "metadata": {},
   "outputs": [],
   "source": [
    "from dataclasses import dataclass\n",
    "from pathlib import Path\n",
    "\n",
    "@dataclass(frozen=True)\n",
    "class DataTransformationConfig:\n",
    "    root_dir: Path\n",
    "    data_path: Path"
   ]
  },
  {
   "cell_type": "code",
   "execution_count": 6,
   "id": "51103fca",
   "metadata": {},
   "outputs": [],
   "source": [
    "from end_to_end_project.constants import *\n",
    "from end_to_end_project.utils.common import read_yaml, create_directories\n",
    "\n",
    "class ConfigurationManager:\n",
    "    def __init__(\n",
    "        self,\n",
    "        config_filepath = CONFIG_FILE_PATH,\n",
    "        params_filepath = PARAMS_FILE_PATH,\n",
    "        schema_filepath = SCHEMA_FILE_PATH\n",
    "    ):\n",
    "        self.config = read_yaml(config_filepath)\n",
    "        self.params = read_yaml(params_filepath)\n",
    "        self.schema = read_yaml(schema_filepath)\n",
    "\n",
    "        create_directories([self.config.artifacts_root])\n",
    "\n",
    "    def get_data_transformation_config(self) -> DataTransformationConfig:\n",
    "        config = self.config.data_transformation\n",
    "\n",
    "        create_directories([config.root_dir])\n",
    "\n",
    "        data_transformation_config = DataTransformationConfig(\n",
    "            root_dir = Path(config.root_dir),\n",
    "            data_path = Path(config.data_path)\n",
    "        )\n",
    "\n",
    "        return data_transformation_config"
   ]
  },
  {
   "cell_type": "code",
   "execution_count": 8,
   "id": "f649bffa",
   "metadata": {},
   "outputs": [
    {
     "name": "stdout",
     "output_type": "stream",
     "text": [
      "[2025-07-31 21:25:25,285: INFO: utils: NumExpr defaulting to 4 threads.]\n"
     ]
    }
   ],
   "source": [
    "import os\n",
    "from end_to_end_project import logger\n",
    "from sklearn.model_selection import train_test_split\n",
    "import pandas as pd\n",
    "\n",
    "class DataTransformation:\n",
    "    def __init__(self, config: DataTransformationConfig):\n",
    "        self.config = config\n",
    "\n",
    "    def train_test_split(self, df: pd.DataFrame, test_size: float = 0.25, random_state:int = 42):\n",
    "        data = df.copy()\n",
    "\n",
    "        train, test = train_test_split(data, test_size=test_size, random_state=random_state)\n",
    "        train.to_csv(os.path.join(self.config.root_dir, \"train.csv\"), index = False )\n",
    "        test.to_csv(os.path.join(self.config.root_dir, \"test.csv\"), index = False )\n",
    "\n",
    "        logger.info(f\"Train and test data saved at {self.config.root_dir}\")\n",
    "        logger.info(f\"Train data shape: {train.shape}, Test data shape: {test.shape}\")\n",
    "        "
   ]
  },
  {
   "cell_type": "code",
   "execution_count": 9,
   "id": "42c39d99",
   "metadata": {},
   "outputs": [
    {
     "name": "stdout",
     "output_type": "stream",
     "text": [
      "[2025-07-31 21:32:36,215: INFO: common: YAML file: config\\config.yaml loaded successfully]\n",
      "[2025-07-31 21:32:36,218: INFO: common: YAML file: params.yaml loaded successfully]\n",
      "[2025-07-31 21:32:36,226: INFO: common: YAML file: schema.yaml loaded successfully]\n",
      "[2025-07-31 21:32:36,230: INFO: common: Created directory at: artifacts]\n",
      "[2025-07-31 21:32:36,232: INFO: common: Created directory at: artifacts/data_transformation]\n",
      "[2025-07-31 21:32:36,325: INFO: 838343783: Train and test data saved at artifacts\\data_transformation]\n",
      "[2025-07-31 21:32:36,326: INFO: 838343783: Train data shape: (1199, 12), Test data shape: (400, 12)]\n"
     ]
    }
   ],
   "source": [
    "try:\n",
    "    config = ConfigurationManager()\n",
    "    data_transformation_config = config.get_data_transformation_config()\n",
    "    data_transformation = DataTransformation(config=data_transformation_config)\n",
    "    data_transformation.train_test_split(\n",
    "        df = pd.read_csv(data_transformation_config.data_path),\n",
    "        test_size= 0.25,\n",
    "        random_state= 42\n",
    "    )\n",
    "except Exception as e:\n",
    "    raise e"
   ]
  },
  {
   "cell_type": "code",
   "execution_count": null,
   "id": "4dd5678b",
   "metadata": {},
   "outputs": [],
   "source": []
  }
 ],
 "metadata": {
  "kernelspec": {
   "display_name": "n2nProject",
   "language": "python",
   "name": "python3"
  },
  "language_info": {
   "codemirror_mode": {
    "name": "ipython",
    "version": 3
   },
   "file_extension": ".py",
   "mimetype": "text/x-python",
   "name": "python",
   "nbconvert_exporter": "python",
   "pygments_lexer": "ipython3",
   "version": "3.13.5"
  }
 },
 "nbformat": 4,
 "nbformat_minor": 5
}
